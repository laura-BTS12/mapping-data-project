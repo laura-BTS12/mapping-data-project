{
 "cells": [
  {
   "cell_type": "code",
   "execution_count": 2,
   "metadata": {},
   "outputs": [
    {
     "data": {
      "text/plain": [
       "True"
      ]
     },
     "execution_count": 2,
     "metadata": {},
     "output_type": "execute_result"
    }
   ],
   "source": [
    "import json\n",
    "\n",
    "import os\n",
    "os.path.exists('sample_data/wine-ratings.csv')"
   ]
  },
  {
   "cell_type": "code",
   "execution_count": 3,
   "metadata": {},
   "outputs": [],
   "source": [
    "# Create DataFrame with csv file\n",
    "import pandas as pd\n",
    "df = pd.read_csv('sample_data/wine-ratings.csv')\n",
    "\n"
   ]
  },
  {
   "cell_type": "code",
   "execution_count": 5,
   "metadata": {},
   "outputs": [
    {
     "data": {
      "text/html": [
       "<div>\n",
       "<style scoped>\n",
       "    .dataframe tbody tr th:only-of-type {\n",
       "        vertical-align: middle;\n",
       "    }\n",
       "\n",
       "    .dataframe tbody tr th {\n",
       "        vertical-align: top;\n",
       "    }\n",
       "\n",
       "    .dataframe thead th {\n",
       "        text-align: right;\n",
       "    }\n",
       "</style>\n",
       "<table border=\"1\" class=\"dataframe\">\n",
       "  <thead>\n",
       "    <tr style=\"text-align: right;\">\n",
       "      <th></th>\n",
       "      <th>name</th>\n",
       "      <th>grape</th>\n",
       "      <th>region</th>\n",
       "      <th>variety</th>\n",
       "      <th>rating</th>\n",
       "      <th>notes</th>\n",
       "    </tr>\n",
       "  </thead>\n",
       "  <tbody>\n",
       "    <tr>\n",
       "      <th>30843</th>\n",
       "      <td>Kumeu River Hunting Hill Chardonnay 2006</td>\n",
       "      <td>NaN</td>\n",
       "      <td>New Zealand</td>\n",
       "      <td>White Wine</td>\n",
       "      <td>96.0</td>\n",
       "      <td>The Chardonnay from Hunting Hill shares some o...</td>\n",
       "    </tr>\n",
       "    <tr>\n",
       "      <th>30847</th>\n",
       "      <td>Kumeu River Hunting Hill Chardonnay 2014</td>\n",
       "      <td>NaN</td>\n",
       "      <td>New Zealand</td>\n",
       "      <td>White Wine</td>\n",
       "      <td>94.0</td>\n",
       "      <td>This wine has fragrant lemon/lime blossom arom...</td>\n",
       "    </tr>\n",
       "    <tr>\n",
       "      <th>30849</th>\n",
       "      <td>Kumeu River Hunting Hill Chardonnay 2016</td>\n",
       "      <td>NaN</td>\n",
       "      <td>New Zealand</td>\n",
       "      <td>White Wine</td>\n",
       "      <td>94.0</td>\n",
       "      <td>#46</td>\n",
       "    </tr>\n",
       "  </tbody>\n",
       "</table>\n",
       "</div>"
      ],
      "text/plain": [
       "                                           name  grape       region  \\\n",
       "30843  Kumeu River Hunting Hill Chardonnay 2006    NaN  New Zealand   \n",
       "30847  Kumeu River Hunting Hill Chardonnay 2014    NaN  New Zealand   \n",
       "30849  Kumeu River Hunting Hill Chardonnay 2016    NaN  New Zealand   \n",
       "\n",
       "          variety  rating                                              notes  \n",
       "30843  White Wine    96.0  The Chardonnay from Hunting Hill shares some o...  \n",
       "30847  White Wine    94.0  This wine has fragrant lemon/lime blossom arom...  \n",
       "30849  White Wine    94.0                                                #46  "
      ]
     },
     "execution_count": 5,
     "metadata": {},
     "output_type": "execute_result"
    }
   ],
   "source": [
    "#Create a mask that only shows New Zealand white wines with rating above 93 and remove the first column\n",
    "mask = (df.loc[:,\"variety\"] == \"White Wine\") & (df.loc[:, \"rating\"] > 93) & (df.loc[:, \"region\"] == \"New Zealand\")\n",
    "info = df[mask][['name', 'grape', 'region', 'variety', 'rating', 'notes']]\n",
    "info"
   ]
  },
  {
   "cell_type": "code",
   "execution_count": 15,
   "metadata": {},
   "outputs": [
    {
     "name": "stdout",
     "output_type": "stream",
     "text": [
      "dict_keys(['name', 'grape', 'region', 'variety', 'rating', 'notes'])\n"
     ]
    }
   ],
   "source": [
    "#Convert the Dataframe into a dictionary object\n",
    "dict = info.to_dict()\n",
    "print(dict.keys())"
   ]
  },
  {
   "cell_type": "code",
   "execution_count": 8,
   "metadata": {},
   "outputs": [],
   "source": [
    "#Create a json file from the dictionary object\n",
    "with open('New_Zealand_White_93.json', 'w') as f:\n",
    "    json.dump(dict, f, sort_keys=True)"
   ]
  },
  {
   "cell_type": "code",
   "execution_count": 14,
   "metadata": {},
   "outputs": [
    {
     "data": {
      "text/plain": [
       "{'30843': 'Kumeu River Hunting Hill Chardonnay 2006',\n",
       " '30847': 'Kumeu River Hunting Hill Chardonnay 2014',\n",
       " '30849': 'Kumeu River Hunting Hill Chardonnay 2016'}"
      ]
     },
     "execution_count": 14,
     "metadata": {},
     "output_type": "execute_result"
    }
   ],
   "source": [
    "#Check that the json file is correct by reconverting it into a dictionary\n",
    "with open('New_Zealand_White_93.json') as f:\n",
    "    loaded_json = json.load(f)\n",
    "loaded_json.keys()\n",
    "loaded_json['name']"
   ]
  },
  {
   "cell_type": "code",
   "execution_count": null,
   "metadata": {},
   "outputs": [],
   "source": []
  }
 ],
 "metadata": {
  "kernelspec": {
   "display_name": "Python 3.9.12 ('learnenv')",
   "language": "python",
   "name": "python3"
  },
  "language_info": {
   "codemirror_mode": {
    "name": "ipython",
    "version": 3
   },
   "file_extension": ".py",
   "mimetype": "text/x-python",
   "name": "python",
   "nbconvert_exporter": "python",
   "pygments_lexer": "ipython3",
   "version": "3.9.12"
  },
  "orig_nbformat": 4,
  "vscode": {
   "interpreter": {
    "hash": "06e6a31441014b7e15dc4b662279cc0f633476cf3acd4354ca5aa390a24917ad"
   }
  }
 },
 "nbformat": 4,
 "nbformat_minor": 2
}
